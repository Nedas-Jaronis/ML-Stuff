{
 "cells": [
  {
   "cell_type": "code",
   "execution_count": 52,
   "id": "c6f7e6c6",
   "metadata": {},
   "outputs": [],
   "source": [
    "from textblob import TextBlob\n",
    "from newspaper import Article\n",
    "\n",
    "url = 'https://www.bbc.com/news/uk-england-london-52963555'\n",
    "article = Article(url)\n",
    "\n",
    "article.download()\n",
    "article.parse()\n",
    "article.nlp()"
   ]
  },
  {
   "cell_type": "code",
   "execution_count": 53,
   "id": "7f6ba4dc",
   "metadata": {},
   "outputs": [
    {
     "name": "stdout",
     "output_type": "stream",
     "text": [
      "Shepherd's Bush shooting: Murder investigation after man dies8 June 2020 Share Save Share SaveBBC The victim was pronounced dead at the scene at 01:26 BST, police saidA man has died in a shooting in west London in the early hours.\n",
      "The victim, believed to be in his 20s, was found suffering from gunshot wounds on Askew Road, Shepherd's Bush, at about 00:40 BST.\n",
      "He was pronounced dead at the scene less than an hour later, the Met Police said.\n",
      "The 42-year-old had been falling asleep when she heard a noise and looked outside to see a man on the ground being helped.\n",
      "The man called the police and was walking over to the victim when two others got out of their cars to help before emergency services arrived.\n"
     ]
    }
   ],
   "source": [
    "text = article.summary\n",
    "print(text)"
   ]
  },
  {
   "cell_type": "code",
   "execution_count": 54,
   "id": "9181ed0a",
   "metadata": {},
   "outputs": [
    {
     "name": "stdout",
     "output_type": "stream",
     "text": [
      "-0.07916666666666668\n"
     ]
    }
   ],
   "source": [
    "blob = TextBlob(text)\n",
    "sentiment  = blob.sentiment.polarity # -1 to 1\n",
    "print(sentiment)"
   ]
  },
  {
   "cell_type": "code",
   "execution_count": 55,
   "id": "e2db63a6",
   "metadata": {},
   "outputs": [],
   "source": [
    "#Implementing my own texts now\n",
    "\n",
    "with open('./data/texts/sentiment.txt', 'r') as f:\n",
    "    text = f.read()\n",
    "\n",
    "blob = TextBlob(text)\n",
    "sentiment  = blob.sentiment.polarity # -1 to 1"
   ]
  },
  {
   "cell_type": "code",
   "execution_count": null,
   "id": "d5294991",
   "metadata": {},
   "outputs": [],
   "source": []
  },
  {
   "cell_type": "code",
   "execution_count": null,
   "id": "9e169419",
   "metadata": {},
   "outputs": [],
   "source": []
  }
 ],
 "metadata": {
  "kernelspec": {
   "display_name": "harvardlearn-env",
   "language": "python",
   "name": "python3"
  },
  "language_info": {
   "codemirror_mode": {
    "name": "ipython",
    "version": 3
   },
   "file_extension": ".py",
   "mimetype": "text/x-python",
   "name": "python",
   "nbconvert_exporter": "python",
   "pygments_lexer": "ipython3",
   "version": "3.10.18"
  }
 },
 "nbformat": 4,
 "nbformat_minor": 5
}
