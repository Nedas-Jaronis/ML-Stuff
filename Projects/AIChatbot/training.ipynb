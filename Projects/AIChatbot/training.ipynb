{
 "cells": [
  {
   "cell_type": "code",
   "execution_count": 19,
   "id": "e4ccc81b",
   "metadata": {},
   "outputs": [],
   "source": [
    "import random\n",
    "import json\n",
    "import pickle\n",
    "import numpy\n",
    "\n",
    "import nltk\n",
    "from nltk.stem import WordNetLemmatizer\n",
    "from tensorflow.keras.models import Sequential\n",
    "from tensorflow.keras.layers import Dense, Activation, Dropout\n",
    "from tensorflow.keras.optimizers import SGD\n",
    "import tensorflow"
   ]
  },
  {
   "cell_type": "code",
   "execution_count": 20,
   "id": "9a1160b9",
   "metadata": {},
   "outputs": [
    {
     "name": "stdout",
     "output_type": "stream",
     "text": [
      "[(['hello'], 'greetings'), (['hey'], 'greetings'), (['hi'], 'greetings'), (['good', 'day'], 'greetings'), (['greetings'], 'greetings'), (['what', \"'s\", 'up', '?'], 'greetings'), (['how', 'is', 'it', 'going'], 'greetings'), (['bye'], 'goodbye'), (['goodbye'], 'goodbye'), (['see', 'you', 'later'], 'goodbye'), (['have', 'a', 'good', 'day'], 'goodbye'), (['see', 'you', 'soon'], 'goodbye'), (['how', 'old'], 'age'), (['what', \"'s\", 'your', 'age'], 'age'), (['when', 'is', 'your', 'birthday'], 'age'), (['when', 'were', 'you', 'born'], 'age'), (['what', \"'s\", 'your', 'name'], 'name'), (['what', 'should', 'I', 'call', 'you'], 'name'), (['who', 'are', 'you'], 'name'), (['where', 'is', 'the', 'shop'], 'shop'), (['where', 'is', 'the', 'store'], 'shop'), (['where', 'is', 'the', 'supermarket'], 'shop'), (['when', 'do', 'you', 'open'], 'hours'), (['when', 'do', 'you', 'close'], 'hours'), (['what', 'are', 'your', 'hours'], 'hours'), (['thanks'], 'thanks'), (['thank', 'you'], 'thanks'), (['appreciate', 'it'], 'thanks'), (['what', \"'s\", 'the', 'weather'], 'weather'), (['how', \"'s\", 'the', 'weather'], 'weather'), (['what', 'is', 'the', 'weather'], 'weather'), (['what', 'stocks', 'do', 'I', 'own', '?'], 'stocks'), (['how', 'are', 'my', 'shares', '?'], 'stocks')]\n"
     ]
    }
   ],
   "source": [
    "lemmatizer = WordNetLemmatizer()\n",
    "intents = json.loads(open('intents.json').read())\n",
    "\n",
    "words = []\n",
    "classes = []\n",
    "documents = []\n",
    "ignore_letters = ['?', '!', '.', ',']\n",
    "\n",
    "for intent in intents['intents']:\n",
    "    for pattern in intent['patterns']:\n",
    "        word_list = nltk.word_tokenize(pattern)\n",
    "        words.extend(word_list)\n",
    "        documents.append((word_list, intent['tag']))\n",
    "\n",
    "        if intent['tag'] not in classes:\n",
    "            classes.append(intent['tag'])\n",
    "\n",
    "print (documents)\n"
   ]
  },
  {
   "cell_type": "code",
   "execution_count": 23,
   "id": "310e0802",
   "metadata": {},
   "outputs": [
    {
     "name": "stdout",
     "output_type": "stream",
     "text": [
      "['hello', 'hey', 'hi', 'good', 'day', 'greeting', 'what', \"'s\", 'up', 'how', 'is', 'it', 'going', 'bye', 'goodbye', 'see', 'you', 'later', 'have', 'a', 'good', 'day', 'see', 'you', 'soon', 'how', 'old', 'what', \"'s\", 'your', 'age', 'when', 'is', 'your', 'birthday', 'when', 'were', 'you', 'born', 'what', \"'s\", 'your', 'name', 'what', 'should', 'I', 'call', 'you', 'who', 'are', 'you', 'where', 'is', 'the', 'shop', 'where', 'is', 'the', 'store', 'where', 'is', 'the', 'supermarket', 'when', 'do', 'you', 'open', 'when', 'do', 'you', 'close', 'what', 'are', 'your', 'hour', 'thanks', 'thank', 'you', 'appreciate', 'it', 'what', \"'s\", 'the', 'weather', 'how', \"'s\", 'the', 'weather', 'what', 'is', 'the', 'weather', 'what', 'stock', 'do', 'I', 'own', 'how', 'are', 'my', 'share']\n"
     ]
    }
   ],
   "source": [
    "words = [lemmatizer.lemmatize(word) for word in words if word not in ignore_letters]\n",
    "wors = sorted(set(words))\n",
    "classes = sorted(set(classes))\n",
    "\n",
    "pickle.dump(words, open('words.pkl', 'wb'))\n",
    "pickle.dump(words, open('classes.pkl', 'wb'))\n",
    "\n",
    "print(words)"
   ]
  },
  {
   "cell_type": "code",
   "execution_count": null,
   "id": "403f4fb6",
   "metadata": {},
   "outputs": [],
   "source": []
  }
 ],
 "metadata": {
  "kernelspec": {
   "display_name": "harvardlearn-env",
   "language": "python",
   "name": "python3"
  },
  "language_info": {
   "codemirror_mode": {
    "name": "ipython",
    "version": 3
   },
   "file_extension": ".py",
   "mimetype": "text/x-python",
   "name": "python",
   "nbconvert_exporter": "python",
   "pygments_lexer": "ipython3",
   "version": "3.10.18"
  }
 },
 "nbformat": 4,
 "nbformat_minor": 5
}
