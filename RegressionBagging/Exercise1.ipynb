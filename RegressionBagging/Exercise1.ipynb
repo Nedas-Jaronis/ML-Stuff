{
 "cells": [
  {
   "cell_type": "code",
   "execution_count": 1,
   "id": "e043b586",
   "metadata": {},
   "outputs": [],
   "source": [
    "from sklearn.datasets import fetch_california_housing\n",
    "from sklearn.model_selection import train_test_split\n",
    "from sklearn.tree import DecisionTreeRegressor\n",
    "from sklearn.ensemble import BaggingRegressor\n",
    "from sklearn.metrics import mean_squared_error\n"
   ]
  },
  {
   "cell_type": "code",
   "execution_count": 7,
   "id": "4dab01e3",
   "metadata": {},
   "outputs": [],
   "source": [
    "X,y = fetch_california_housing(return_X_y=True)\n",
    "X_train, X_test, y_train, y_test = train_test_split(X,y, random_state=42)"
   ]
  },
  {
   "cell_type": "code",
   "execution_count": null,
   "id": "da044894",
   "metadata": {},
   "outputs": [
    {
     "name": "stdout",
     "output_type": "stream",
     "text": [
      "Descition Tree MSE:  0.5285224061284108\n"
     ]
    }
   ],
   "source": [
    "tree = DecisionTreeRegressor(random_state=42)\n",
    "tree.fit(X_train, y_train)\n",
    "y_pred_tree = tree.predict(X_test)\n",
    "print(\"Descition Tree MSE: \" , mean_squared_error(y_test, y_pred_tree))  #saying how far it is off of the actual values, the acutal values are medians of houses in 100,000s and we got an MSE of 0.528522 which we can sqrt and times it by 100,000 to see how far off it roughly is. Closer to 0 is obviously the best. Its an error of about $72,700"
   ]
  },
  {
   "cell_type": "code",
   "execution_count": 17,
   "id": "5b7c2e88",
   "metadata": {},
   "outputs": [
    {
     "name": "stdout",
     "output_type": "stream",
     "text": [
      "Bagging Regressor MSE:  0.2582487035129332\n"
     ]
    }
   ],
   "source": [
    "bagging = BaggingRegressor(estimator=DecisionTreeRegressor(),n_estimators=50,random_state=42)\n",
    "\n",
    "bagging.fit(X_train, y_train)\n",
    "y_pred_bag= bagging.predict(X_test)\n",
    "print(\"Bagging Regressor MSE: \", mean_squared_error (y_test, y_pred_bag))"
   ]
  }
 ],
 "metadata": {
  "kernelspec": {
   "display_name": "harvardlearn-env",
   "language": "python",
   "name": "python3"
  },
  "language_info": {
   "codemirror_mode": {
    "name": "ipython",
    "version": 3
   },
   "file_extension": ".py",
   "mimetype": "text/x-python",
   "name": "python",
   "nbconvert_exporter": "python",
   "pygments_lexer": "ipython3",
   "version": "3.10.18"
  }
 },
 "nbformat": 4,
 "nbformat_minor": 5
}
