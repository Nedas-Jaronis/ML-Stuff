{
 "cells": [
  {
   "cell_type": "code",
   "execution_count": null,
   "id": "0da52b6b",
   "metadata": {},
   "outputs": [
    {
     "name": "stdout",
     "output_type": "stream",
     "text": [
      "   ID     crim    zn  indus  chas    nox     rm   age     dis  rad  tax  \\\n",
      "0   1  0.00632  18.0   2.31     0  0.538  6.575  65.2  4.0900    1  296   \n",
      "1   2  0.02731   0.0   7.07     0  0.469  6.421  78.9  4.9671    2  242   \n",
      "2   4  0.03237   0.0   2.18     0  0.458  6.998  45.8  6.0622    3  222   \n",
      "3   5  0.06905   0.0   2.18     0  0.458  7.147  54.2  6.0622    3  222   \n",
      "4   7  0.08829  12.5   7.87     0  0.524  6.012  66.6  5.5605    5  311   \n",
      "\n",
      "   ptratio   black  lstat  medv  \n",
      "0     15.3  396.90   4.98  24.0  \n",
      "1     17.8  396.90   9.14  21.6  \n",
      "2     18.7  394.63   2.94  33.4  \n",
      "3     18.7  396.90   5.33  36.2  \n",
      "4     15.2  395.60  12.43  22.9  \n",
      "0      24.0\n",
      "1      21.6\n",
      "2      33.4\n",
      "3      36.2\n",
      "4      22.9\n",
      "       ... \n",
      "328    17.5\n",
      "329    22.4\n",
      "330    20.6\n",
      "331    23.9\n",
      "332    11.9\n",
      "Name: medv, Length: 333, dtype: float64\n",
      "[23.46886475 20.4212729  19.80064395 27.84307139 21.39608285 14.60391607\n",
      " 14.02705569 26.85272191 17.25564236 26.56450251 24.05505206 18.69827139\n",
      " 21.05262627 45.50593888 29.1611574  34.61880361 21.65796929 19.61826334\n",
      " 21.54120406 13.8854582  44.44469982 29.79955586 19.68907495 26.55078932\n",
      " 13.65951105 47.62223449  8.89207868 13.9808796  26.8509415  16.21602904\n",
      " 23.19562681 19.91949658 22.57632113 15.89057602 12.72822596 12.45630197\n",
      " 24.66251349 12.23771441 19.27308479 20.98182193 22.28821958 30.86013537\n",
      " 26.84395438 42.52890531 47.16237919 20.45840522  8.56579808 21.94066872\n",
      " 15.85562704 17.28381691 14.75320102 28.79032868 21.84825902 13.68241302\n",
      " 24.8704418  19.17167839 20.29429058 25.77115027 24.68328425 22.72076001\n",
      " 17.52232685 21.3499297  14.58109135 32.98048024 20.71980009 15.76722399\n",
      " 23.64538956]\n"
     ]
    }
   ],
   "source": [
    "import pandas as pd\n",
    "from sklearn.ensemble import GradientBoostingRegressor\n",
    "from sklearn.model_selection import train_test_split\n",
    "from sklearn.metrics import mean_squared_error, mean_absolute_error, r2_score\n",
    "\n",
    "boston_df = pd.read_csv(\"train.csv\")\n",
    "\n",
    "print(boston_df.head())\n",
    "# crim = per capita crime rate by town.\n",
    "# zn = proportion of residential land zoned for lots over 25,000 sq.ft.\n",
    "# indus = proportion of non-retail business acres per town.\n",
    "# chas = Charles River dummy variable (= 1 if tract bounds river; 0 otherwise).\n",
    "# nox = nitrogen oxides concentration (parts per 10 million).\n",
    "# rm = average number of rooms per dwelling.\n",
    "# age = proportion of owner-occupied units built prior to 1940.\n",
    "# dis = weighted mean of distances to five Boston employment centres.\n",
    "# rad = index of accessibility to radial highways.\n",
    "# tax = full-value property-tax rate per $10,000.\n",
    "# ptratio = pupil-teacher ratio by town.\n",
    "# black = 1000(Bk - 0.63)^2 where Bk is the proportion of blacks by town.\n",
    "# lstat = lower status of the population (percent).\n",
    "# medv = median value of owner-occupied homes in $1000s.\n",
    "X = boston_df.drop(columns=['medv'])\n",
    "y = boston_df['medv']\n",
    "\n",
    "#X and y situated, my y variable sor output is medv\n",
    "print(y)\n",
    "\n",
    "\n",
    "X_train, X_Test, y_train, y_test = train_test_split(X,y, test_size=0.2, random_state=42)\n",
    "#training and testing split I have made now\n",
    "model = GradientBoostingRegressor(n_estimators=100, learning_rate=0.1, max_depth=3, random_state=42)\n",
    "model.fit(X_train, y_train)\n",
    "y_pred = model.predict(X_Test)\n",
    "print(y_pred)\n",
    "\n",
    "\n"
   ]
  },
  {
   "cell_type": "code",
   "execution_count": 41,
   "id": "6975e36b",
   "metadata": {},
   "outputs": [
    {
     "name": "stdout",
     "output_type": "stream",
     "text": [
      "This is mae:  1.7184900771159373\n",
      "This is mse:  5.060789880707686\n",
      "This is r2:  0.943767990844575\n"
     ]
    }
   ],
   "source": [
    "mae = mean_absolute_error(y_test, y_pred)\n",
    "mse = mean_squared_error(y_test, y_pred)\n",
    "r2 = r2_score(y_test,y_pred)\n",
    "\n",
    "print(\"This is mae: \", mae)\n",
    "print(\"This is mse: \", mse)\n",
    "print(\"This is r2: \", r2)"
   ]
  },
  {
   "cell_type": "code",
   "execution_count": null,
   "id": "7bb203d5",
   "metadata": {},
   "outputs": [],
   "source": []
  }
 ],
 "metadata": {
  "kernelspec": {
   "display_name": "harvardlearn-env",
   "language": "python",
   "name": "python3"
  },
  "language_info": {
   "codemirror_mode": {
    "name": "ipython",
    "version": 3
   },
   "file_extension": ".py",
   "mimetype": "text/x-python",
   "name": "python",
   "nbconvert_exporter": "python",
   "pygments_lexer": "ipython3",
   "version": "3.10.18"
  }
 },
 "nbformat": 4,
 "nbformat_minor": 5
}
