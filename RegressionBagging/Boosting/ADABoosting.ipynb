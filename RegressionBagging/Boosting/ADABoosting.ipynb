{
 "cells": [
  {
   "cell_type": "code",
   "execution_count": 12,
   "id": "4af477e9",
   "metadata": {},
   "outputs": [],
   "source": [
    "from sklearn.ensemble import AdaBoostClassifier\n",
    "from sklearn.model_selection import train_test_split\n",
    "from sklearn.datasets import fetch_openml\n",
    "import pandas as pd\n",
    "from sklearn.preprocessing import LabelEncoder\n",
    "from sklearn.tree import DecisionTreeClassifier\n",
    "from sklearn.metrics import accuracy_score, confusion_matrix\n",
    "\n",
    "data = fetch_openml(name='adult', version=2, as_frame=True)\n",
    "X,y = data.data, data.target\n",
    "\n"
   ]
  },
  {
   "cell_type": "code",
   "execution_count": 13,
   "id": "2490901a",
   "metadata": {},
   "outputs": [
    {
     "name": "stdout",
     "output_type": "stream",
     "text": [
      "       age     workclass     education      marital-status         occupation  \\\n",
      "0       25       Private          11th       Never-married  Machine-op-inspct   \n",
      "1       38       Private       HS-grad  Married-civ-spouse    Farming-fishing   \n",
      "2       28     Local-gov    Assoc-acdm  Married-civ-spouse    Protective-serv   \n",
      "3       44       Private  Some-college  Married-civ-spouse  Machine-op-inspct   \n",
      "4       18           NaN  Some-college       Never-married                NaN   \n",
      "...    ...           ...           ...                 ...                ...   \n",
      "48837   27       Private    Assoc-acdm  Married-civ-spouse       Tech-support   \n",
      "48838   40       Private       HS-grad  Married-civ-spouse  Machine-op-inspct   \n",
      "48839   58       Private       HS-grad             Widowed       Adm-clerical   \n",
      "48840   22       Private       HS-grad       Never-married       Adm-clerical   \n",
      "48841   52  Self-emp-inc       HS-grad  Married-civ-spouse    Exec-managerial   \n",
      "\n",
      "      relationship   race     sex  capital-gain  capital-loss  hours-per-week  \\\n",
      "0        Own-child  Black    Male             0             0              40   \n",
      "1          Husband  White    Male             0             0              50   \n",
      "2          Husband  White    Male             0             0              40   \n",
      "3          Husband  Black    Male          7688             0              40   \n",
      "4        Own-child  White  Female             0             0              30   \n",
      "...            ...    ...     ...           ...           ...             ...   \n",
      "48837         Wife  White  Female             0             0              38   \n",
      "48838      Husband  White    Male             0             0              40   \n",
      "48839    Unmarried  White  Female             0             0              40   \n",
      "48840    Own-child  White    Male             0             0              20   \n",
      "48841         Wife  White  Female         15024             0              40   \n",
      "\n",
      "      native-country  \n",
      "0      United-States  \n",
      "1      United-States  \n",
      "2      United-States  \n",
      "3      United-States  \n",
      "4      United-States  \n",
      "...              ...  \n",
      "48837  United-States  \n",
      "48838  United-States  \n",
      "48839  United-States  \n",
      "48840  United-States  \n",
      "48841  United-States  \n",
      "\n",
      "[48842 rows x 12 columns]\n"
     ]
    }
   ],
   "source": [
    "X = X.drop(columns=[\"fnlwgt\", \"education-num\"])\n",
    "print(X)"
   ]
  },
  {
   "cell_type": "code",
   "execution_count": 16,
   "id": "6dae0f0a",
   "metadata": {},
   "outputs": [],
   "source": [
    "for col in X.select_dtypes(include='category').columns:\n",
    "    le = LabelEncoder()\n",
    "    X[col] = le.fit_transform(X[col].astype(str))\n",
    "\n",
    "\n",
    "y= LabelEncoder().fit_transform(y)"
   ]
  },
  {
   "cell_type": "code",
   "execution_count": null,
   "id": "7b966ec8",
   "metadata": {},
   "outputs": [],
   "source": [
    "X_train, X_test, y_train, y_test = train_test_split(X,y, test_size=0.3, random_state=42)"
   ]
  },
  {
   "cell_type": "code",
   "execution_count": null,
   "id": "0c3f2452",
   "metadata": {},
   "outputs": [],
   "source": [
    "dt = DecisionTreeClassifier(max_depth=1)\n",
    "dt.fit(X_train, y_train)\n",
    "\n",
    "y_pred = dt.predict(X_test)"
   ]
  },
  {
   "cell_type": "code",
   "execution_count": 23,
   "id": "70de2bd4",
   "metadata": {},
   "outputs": [
    {
     "name": "stdout",
     "output_type": "stream",
     "text": [
      "[0 0 0 ... 0 0 0]\n",
      "[0 0 1 ... 0 0 0]\n"
     ]
    }
   ],
   "source": [
    "print(y_pred)\n",
    "print(y_test)"
   ]
  },
  {
   "cell_type": "code",
   "execution_count": 22,
   "id": "dc4b7a69",
   "metadata": {},
   "outputs": [
    {
     "name": "stdout",
     "output_type": "stream",
     "text": [
      "0.766600696103187\n"
     ]
    }
   ],
   "source": [
    "print(accuracy_score(y_test, y_pred))"
   ]
  },
  {
   "cell_type": "code",
   "execution_count": 25,
   "id": "224a7cb5",
   "metadata": {},
   "outputs": [],
   "source": [
    "ada = AdaBoostClassifier(\n",
    "    estimator=DecisionTreeClassifier(max_depth=1),\n",
    "    n_estimators=100,\n",
    "    random_state=42\n",
    ")\n",
    "\n",
    "ada.fit(X_train, y_train)\n",
    "\n",
    "y_pred_ada = ada.predict(X_test)"
   ]
  },
  {
   "cell_type": "code",
   "execution_count": 26,
   "id": "e54a1e36",
   "metadata": {},
   "outputs": [
    {
     "name": "stdout",
     "output_type": "stream",
     "text": [
      "0.8605063809458814\n",
      "[[10610   623]\n",
      " [ 1421  1999]]\n"
     ]
    }
   ],
   "source": [
    "print(accuracy_score(y_test, y_pred_ada))\n",
    "print(confusion_matrix(y_test, y_pred_ada))"
   ]
  },
  {
   "cell_type": "code",
   "execution_count": null,
   "id": "21e24106",
   "metadata": {},
   "outputs": [],
   "source": []
  }
 ],
 "metadata": {
  "kernelspec": {
   "display_name": "harvardlearn-env",
   "language": "python",
   "name": "python3"
  },
  "language_info": {
   "codemirror_mode": {
    "name": "ipython",
    "version": 3
   },
   "file_extension": ".py",
   "mimetype": "text/x-python",
   "name": "python",
   "nbconvert_exporter": "python",
   "pygments_lexer": "ipython3",
   "version": "3.10.18"
  }
 },
 "nbformat": 4,
 "nbformat_minor": 5
}
