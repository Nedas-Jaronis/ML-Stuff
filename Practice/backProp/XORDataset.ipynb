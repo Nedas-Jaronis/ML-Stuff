{
 "cells": [
  {
   "cell_type": "code",
   "execution_count": 8,
   "id": "019f0de6",
   "metadata": {},
   "outputs": [],
   "source": [
    "import numpy as np\n",
    "\n",
    "X = np.array([\n",
    "    [0,0],\n",
    "    [0,1],\n",
    "    [1,0],\n",
    "    [1,1]\n",
    "])\n",
    "\n",
    "y = np.array([[0], [1], [1], [0]])"
   ]
  },
  {
   "cell_type": "code",
   "execution_count": 9,
   "id": "3312ef57",
   "metadata": {},
   "outputs": [],
   "source": [
    "def sigmoid(z):\n",
    "    return 1 / (1 + np.exp(-z))\n",
    "\n",
    "def sigmoud_deriv(z):\n",
    "    s = sigmoid(z)\n",
    "    return s * (1- s)"
   ]
  },
  {
   "cell_type": "code",
   "execution_count": 10,
   "id": "220266a2",
   "metadata": {},
   "outputs": [],
   "source": [
    "np.random.seed(42)\n",
    "W1 = np.random.randn(2,2)\n",
    "b1 = np.zeros((1,2))\n",
    "W2 = np.random.randn(2,1)\n",
    "b2 = np.zeros((1,1))"
   ]
  },
  {
   "cell_type": "code",
   "execution_count": 11,
   "id": "b7acb0f0",
   "metadata": {},
   "outputs": [],
   "source": [
    "def forward(X,W1, b1, W2, b2):\n",
    "    z1 = np.dot(X, W1) + b1\n",
    "    a1 = sigmoid(z1)\n",
    "    z2 = np.dot(a1, W2) + b2\n",
    "    a2 = sigmoid(z2)\n",
    "    return z1 , a1, z2, a2"
   ]
  },
  {
   "cell_type": "code",
   "execution_count": 12,
   "id": "be9a8ae8",
   "metadata": {},
   "outputs": [],
   "source": [
    "def backward(X , y , z1, a1 ,z2, a2, W2):\n",
    "    m = X.shape[0]\n",
    "    \n",
    "    dz2 = a2 - y\n",
    "    dW2 = (1/m) * np.dot(a1.T, dz2)\n",
    "    db2 = (1/m) * np.sum(dz2, axis = 0, keepdims=True)\n",
    "\n",
    "    dz1 = np.dot(dz2, W2.T) * sigmoud_deriv(z1)\n",
    "    dW1 = (1/m) * np.dot(X.T, dz1)\n",
    "    db1 = (1/m) * np.sum(dz1, axis=0, keepdims=True)\n",
    "\n",
    "    return dW1, db1, dW2, db2\n"
   ]
  },
  {
   "cell_type": "code",
   "execution_count": 22,
   "id": "0b57400c",
   "metadata": {},
   "outputs": [
    {
     "name": "stdout",
     "output_type": "stream",
     "text": [
      "Epoch 0 | Loss: 0.1251 | Accuracy: 50.00%\n",
      "Epoch 1000 | Loss: 0.1251 | Accuracy: 50.00%\n",
      "Epoch 2000 | Loss: 0.1251 | Accuracy: 50.00%\n",
      "Epoch 3000 | Loss: 0.1251 | Accuracy: 50.00%\n",
      "Epoch 4000 | Loss: 0.1251 | Accuracy: 50.00%\n",
      "Epoch 5000 | Loss: 0.1251 | Accuracy: 50.00%\n",
      "Epoch 6000 | Loss: 0.1251 | Accuracy: 50.00%\n",
      "Epoch 7000 | Loss: 0.1251 | Accuracy: 50.00%\n",
      "Epoch 8000 | Loss: 0.1251 | Accuracy: 50.00%\n",
      "Epoch 9000 | Loss: 0.1251 | Accuracy: 50.00%\n"
     ]
    }
   ],
   "source": [
    "lr = 0.01\n",
    "for epoch in range (10000):\n",
    "    z1, a1, z2, a2 = forward(X, W1, b1, W2, b2)\n",
    "\n",
    "    dW1, db1, dW2, db2 = backward(X, y, z1, a1, z2, a2, W2)\n",
    "\n",
    "    W1 -= lr * dW1\n",
    "    b1 -= lr * db1\n",
    "    W2 -= lr * dW2\n",
    "    b2 -= lr * db2\n",
    "    \n",
    "    loss = np.mean((y-a2) ** 2)\n",
    "    preds_binary = (a2 >= 0.5).astype(int)\n",
    "    accuracy = np.mean(preds_binary == y) * 100\n",
    "\n",
    "    if epoch % 1000 == 0:\n",
    "        print(f\"Epoch {epoch} | Loss: {loss:.4f} | Accuracy: {accuracy:.2f}%\")"
   ]
  },
  {
   "cell_type": "code",
   "execution_count": 23,
   "id": "5a891cc7",
   "metadata": {},
   "outputs": [
    {
     "name": "stdout",
     "output_type": "stream",
     "text": [
      "\n",
      "Predictions: \n",
      "[[0.]\n",
      " [0.]\n",
      " [1.]\n",
      " [1.]]\n"
     ]
    }
   ],
   "source": [
    "_, _, _, preds = forward(X, W1, b1, W2, b2)\n",
    "print(\"\\nPredictions: \")\n",
    "print(np.round(preds))"
   ]
  },
  {
   "cell_type": "code",
   "execution_count": null,
   "id": "63479ac1",
   "metadata": {},
   "outputs": [],
   "source": []
  }
 ],
 "metadata": {
  "kernelspec": {
   "display_name": "harvardlearn-env",
   "language": "python",
   "name": "python3"
  },
  "language_info": {
   "codemirror_mode": {
    "name": "ipython",
    "version": 3
   },
   "file_extension": ".py",
   "mimetype": "text/x-python",
   "name": "python",
   "nbconvert_exporter": "python",
   "pygments_lexer": "ipython3",
   "version": "3.10.18"
  }
 },
 "nbformat": 4,
 "nbformat_minor": 5
}
